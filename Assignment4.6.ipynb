{
 "cells": [
  {
   "cell_type": "markdown",
   "metadata": {},
   "source": [
    "Problem Statement 1:\n",
    "Two balls are drawn at random in succession without replacement from an urn\n",
    "containing 4 red balls and 6 black balls.\n",
    "Find the probabilities of all the possible outcomes."
   ]
  },
  {
   "cell_type": "code",
   "execution_count": 14,
   "metadata": {},
   "outputs": [
    {
     "name": "stdout",
     "output_type": "stream",
     "text": [
      "probaility of one red ball and one black ball is:  0.5333333333333333\n",
      "Probability of both balls drawn are black ball 0.3333333333333333\n",
      "Probability of both balls drawn are red ball:  0.13333333333333333\n",
      "Total prabability of all possible outcomes 1.0\n"
     ]
    }
   ],
   "source": [
    "from functools import reduce\n",
    "def factorial(n):\n",
    "    if n < 2: return 1\n",
    "    else:\n",
    "        return reduce(lambda x,y: x*y , range(2, int(n)+1))\n",
    "total_balls = 10\n",
    "total_of_two = factorial(10)/(factorial(2) * factorial(10-2))\n",
    "prob_of_both_red = (factorial(4)/(2*factorial(4-2))) / total_of_two\n",
    "prob_of_both_black = (factorial(6)/(2*factorial(6-2))) / total_of_two\n",
    "prob_of_oneR_oneB = ((factorial(4)/(factorial(4-1))) * (factorial(6)/(factorial(6-1) ))) /(total_of_two)\n",
    "\n",
    "print(\"probaility of one red ball and one black ball is: \" , prob_of_oneR_oneB)\n",
    "print(\"Probability of both balls drawn are black ball\" , prob_of_both_black)\n",
    "print(\"Probability of both balls drawn are red ball: \", prob_of_both_red)\n",
    "print(\"Total prabability of all possible outcomes\" , prob_of_both_black+prob_of_both_red+prob_of_oneR_oneB)"
   ]
  },
  {
   "cell_type": "code",
   "execution_count": null,
   "metadata": {},
   "outputs": [],
   "source": []
  }
 ],
 "metadata": {
  "kernelspec": {
   "display_name": "Python 3",
   "language": "python",
   "name": "python3"
  }
 },
 "nbformat": 4,
 "nbformat_minor": 2
}
