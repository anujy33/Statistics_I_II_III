{
 "cells": [
  {
   "cell_type": "markdown",
   "metadata": {},
   "source": [
    "Problem Statement 1:\n",
    "\n",
    "In one state, 52% of the voters are Republicans, and 48% are Democrats. In a second\n",
    "state, 47% of the voters are Republicans, and 53% are Democrats. Suppose a simple\n",
    "random sample of 100 voters are surveyed from each state.\n",
    "What is the probability that the survey will show a greater percentage of Republican\n",
    "voters in the second state than in the first state?"
   ]
  },
  {
   "cell_type": "code",
   "execution_count": 13,
   "metadata": {},
   "outputs": [
    {
     "name": "stdout",
     "output_type": "stream",
     "text": [
      "Standard Devition of sample is :  0.07061869440877536\n",
      "Calculatin Z\n",
      "Z_mean = -0.7080278164104213\n",
      "Using Normal Distribution the probability that the surver wil show greater percentage of Republican voters in the second state than in the first state is: 24%\n"
     ]
    }
   ],
   "source": [
    "import math\n",
    "P1_republicans = 0.52\n",
    "P2_republicans = 0.47\n",
    "sample = 100\n",
    "mean_diffence_sample = P1_republicans - P2_republicans\n",
    "std_devi_S = math.sqrt((P1_republicans * (1-P1_republicans)/ sample) + P2_republicans * (1 - P2_republicans)/ sample)\n",
    "print(\"Standard Devition of sample is : \", std_devi_S)\n",
    "print(\"Calculatin Z\")\n",
    "\n",
    "z_sample = (0 - mean_diffence_sample)/ std_devi_S\n",
    "print(\"Z_mean =\",z_sample)\n",
    "print(\"Using Normal Distribution the probability that the surver wil show greater percentage of Republican voters in \\\n",
    "the second state than in the first state is: 24%\")"
   ]
  },
  {
   "cell_type": "code",
   "execution_count": null,
   "metadata": {},
   "outputs": [],
   "source": []
  }
 ],
 "metadata": {
  "kernelspec": {
   "display_name": "Python 3",
   "language": "python",
   "name": "python3"
  },
  "language_info": {
   "codemirror_mode": {
    "name": "ipython",
    "version": 3
   },
   "file_extension": ".py",
   "mimetype": "text/x-python",
   "name": "python",
   "nbconvert_exporter": "python",
   "pygments_lexer": "ipython3",
   "version": "3.6.4"
  }
 },
 "nbformat": 4,
 "nbformat_minor": 2
}
