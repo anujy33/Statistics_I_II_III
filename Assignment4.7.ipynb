{
 "cells": [
  {
   "cell_type": "raw",
   "metadata": {},
   "source": [
    "Problem Statement 1:\n",
    "\n",
    "Blood glucose levels for obese patients have a mean of 100 with a standard deviation of\n",
    "15. A researcher thinks that a diet high in raw cornstarch will have a positive effect on\n",
    "blood glucose levels. A sample of 36 patients who have tried the raw cornstarch diet\n",
    "have a mean glucose level of 108. Test the hypothesis that the raw cornstarch had an\n",
    "effect or not."
   ]
  },
  {
   "cell_type": "code",
   "execution_count": 7,
   "metadata": {},
   "outputs": [
    {
     "name": "stdout",
     "output_type": "stream",
     "text": [
      "3.2\n",
      "Rejecting null hypothesis\n"
     ]
    }
   ],
   "source": [
    "import math\n",
    "Mean_glucose = 100\n",
    "std_deviation = 15\n",
    "Mean_after_rawc = 108\n",
    "sample_taken = 36\n",
    "Assuming_confidence_level_percentage = 95\n",
    "z_alpha = 1 - 0.95\n",
    "z_usingZ_table = 1.96\n",
    "z = ((Mean_after_rawc)- Mean_glucose) /(std_deviation/math.sqrt(sample_taken))\n",
    "print(z)\n",
    "if z < z_usingZ_table:\n",
    "    print(\"Accepting null hypothesis\")\n",
    "else:\n",
    "    print(\"Rejecting null hypothesis\")"
   ]
  },
  {
   "cell_type": "code",
   "execution_count": null,
   "metadata": {},
   "outputs": [],
   "source": []
  }
 ],
 "metadata": {
  "kernelspec": {
   "display_name": "Python 3",
   "language": "python",
   "name": "python3"
  },
  "language_info": {
   "codemirror_mode": {
    "name": "ipython",
    "version": 3
   },
   "file_extension": ".py",
   "mimetype": "text/x-python",
   "name": "python",
   "nbconvert_exporter": "python",
   "pygments_lexer": "ipython3",
   "version": "3.6.4"
  }
 },
 "nbformat": 4,
 "nbformat_minor": 2
}
