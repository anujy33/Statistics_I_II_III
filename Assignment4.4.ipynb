{
 "cells": [
  {
   "cell_type": "markdown",
   "metadata": {},
   "source": [
    "Problem Statement 1:\n",
    "A test is conducted which is consisting of 20 MCQs (multiple choices questions) with\n",
    "every MCQ having its four options out of which only one is correct. Determine the\n",
    "probability that a person undertaking that test has answered exactly 5 questions wrong."
   ]
  },
  {
   "cell_type": "code",
   "execution_count": 19,
   "metadata": {},
   "outputs": [
    {
     "name": "stdout",
     "output_type": "stream",
     "text": [
      "probability that a person undertaking that test has answered exactly 5 questions wrong is: 3.4264958230778575e-06\n"
     ]
    }
   ],
   "source": [
    "Total_MCQs_n = 20\n",
    "prob_correct_p = 0.75\n",
    "prob_x = 5\n",
    "\n",
    "#using Binomial Distribution \n",
    "import numpy as np\n",
    "from functools import reduce\n",
    "def factorial(n): \n",
    "    if n < 2: return 1\n",
    "    return reduce(lambda x, y: x*y,range(2, int(n)+1))\n",
    "\n",
    "def prob(n,x,p):\n",
    "    q = 1.0 - p\n",
    "    prob_1 = factorial(n) / (factorial(x)*factorial(n-x)) \n",
    "    prob = prob_1 * p**x * (q)**(n-x)\n",
    "    return prob\n",
    "\n",
    "a = prob(Total_MCQs_n, prob_x, prob_correct_p)\n",
    "print(\"Probability that a person undertaking that test has answered exactly 5 questions wrong is:\", a )"
   ]
  },
  {
   "cell_type": "code",
   "execution_count": null,
   "metadata": {},
   "outputs": [],
   "source": []
  },
  {
   "cell_type": "code",
   "execution_count": null,
   "metadata": {},
   "outputs": [],
   "source": []
  }
 ],
 "metadata": {
  "kernelspec": {
   "display_name": "Python 3",
   "language": "python",
   "name": "python3"
  },
  "language_info": {
   "codemirror_mode": {
    "name": "ipython",
    "version": 3
   },
   "file_extension": ".py",
   "mimetype": "text/x-python",
   "name": "python",
   "nbconvert_exporter": "python",
   "pygments_lexer": "ipython3",
   "version": "3.6.4"
  }
 },
 "nbformat": 4,
 "nbformat_minor": 2
}
