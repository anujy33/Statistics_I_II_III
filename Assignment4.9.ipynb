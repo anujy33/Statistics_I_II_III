{
 "cells": [
  {
   "cell_type": "markdown",
   "metadata": {},
   "source": [
    "Problem Statement 1:\n",
    "\n",
    "You take the SAT and score 1100. The mean score for the SAT is 1026 and the standard\n",
    "deviation is 209. How well did you score on the test compared to the average test taker?"
   ]
  },
  {
   "cell_type": "code",
   "execution_count": 3,
   "metadata": {},
   "outputs": [
    {
     "name": "stdout",
     "output_type": "stream",
     "text": [
      "Calculating z_score\n",
      "0.35406698564593303\n",
      "Calculating Z-value using z table: i.e 0.1368+0.5 = 0.6368\n",
      "You have scored 63.68% well\n"
     ]
    }
   ],
   "source": [
    "Mean_sample = 1026\n",
    "std_dev_sample = 209\n",
    "sat_score = 1100\n",
    "print('Calculating z_score')\n",
    "\n",
    "z = (sat_score - Mean_sample) / std_dev_sample\n",
    "print(z)\n",
    "print(\"Calculating Z-value using z table: i.e 0.1368+0.5 = 0.6368\")\n",
    "print(\"You have scored 63.68% well\")"
   ]
  },
  {
   "cell_type": "code",
   "execution_count": null,
   "metadata": {},
   "outputs": [],
   "source": []
  }
 ],
 "metadata": {
  "kernelspec": {
   "display_name": "Python 3",
   "language": "python",
   "name": "python3"
  },
  "language_info": {
   "codemirror_mode": {
    "name": "ipython",
    "version": 3
   },
   "file_extension": ".py",
   "mimetype": "text/x-python",
   "name": "python",
   "nbconvert_exporter": "python",
   "pygments_lexer": "ipython3",
   "version": "3.6.4"
  }
 },
 "nbformat": 4,
 "nbformat_minor": 2
}
