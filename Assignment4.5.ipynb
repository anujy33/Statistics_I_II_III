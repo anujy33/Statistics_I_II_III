{
 "cells": [
  {
   "cell_type": "markdown",
   "metadata": {},
   "source": [
    "Problem Statement 1:\n",
    "A die marked A to E is rolled 50 times. Find the probability of getting a “D” exactly 5\n",
    "times."
   ]
  },
  {
   "cell_type": "code",
   "execution_count": 1,
   "metadata": {},
   "outputs": [
    {
     "name": "stdout",
     "output_type": "stream",
     "text": [
      "Proability of getting D exactly 5 times:  0.029531204310524296\n"
     ]
    }
   ],
   "source": [
    "total_times = 50\n",
    "prob_success = 1/5\n",
    "prob_X = 5\n",
    "\n",
    "import numpy as np\n",
    "from functools import reduce\n",
    "def factorial(n): \n",
    "    if n < 2: return 1\n",
    "    return reduce(lambda x, y: x*y,range(2, int(n)+1))\n",
    "\n",
    "def prob(n,x,p):\n",
    "    q = 1.0 - p\n",
    "    prob_1 = factorial(n) / (factorial(x)*factorial(n-x)) \n",
    "    prob = prob_1 * p**x * (q)**(n-x)\n",
    "    return prob\n",
    "\n",
    "a = prob(total_times, prob_X , prob_success)\n",
    "print(\"Proability of getting D exactly 5 times: \", a)"
   ]
  },
  {
   "cell_type": "code",
   "execution_count": null,
   "metadata": {},
   "outputs": [],
   "source": []
  }
 ],
 "metadata": {
  "kernelspec": {
   "display_name": "Python 3",
   "language": "python",
   "name": "python3"
  },
  "language_info": {
   "codemirror_mode": {
    "name": "ipython",
    "version": 3
   },
   "file_extension": ".py",
   "mimetype": "text/x-python",
   "name": "python",
   "nbconvert_exporter": "python",
   "pygments_lexer": "ipython3",
   "version": "3.6.4"
  }
 },
 "nbformat": 4,
 "nbformat_minor": 2
}
