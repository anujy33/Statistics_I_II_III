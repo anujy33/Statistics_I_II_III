{
 "cells": [
  {
   "cell_type": "markdown",
   "metadata": {},
   "source": [
    "Problem Statement 1:\n",
    "You survey households in your area to find the average rent they are paying. Find the\n",
    "standard deviation from the following data:\n",
    "$1550, $1700, $900, $850, $1000, $950."
   ]
  },
  {
   "cell_type": "code",
   "execution_count": 3,
   "metadata": {},
   "outputs": [
    {
     "name": "stdout",
     "output_type": "stream",
     "text": [
      "Standard Deviation using formula: 335.92740617910624\n",
      "Standard Deviation using numpy:  335.92740617910624\n"
     ]
    }
   ],
   "source": [
    "import math\n",
    "import numpy as np\n",
    "list1 = [1550,1700,900,850,1000,950]\n",
    "mean_sum = 0\n",
    "for i in range(len(list1)):\n",
    "    mean_sum += list1[i]\n",
    "mean = mean_sum/len(list1)\n",
    "varience_sum =0\n",
    "for i in range(len(list1)):\n",
    "    varience_sum += ((list1[i] - mean)**2)\n",
    "varience = varience_sum*1/(len(list1))\n",
    "std_deviation = math.sqrt(varience )\n",
    "print(\"Standard Deviation using formula:\", std_deviation)\n",
    "\n",
    "#using numpy\n",
    "stdnp_deviation = np.std(list1)\n",
    "print(\"Standard Deviation using numpy: \", stdnp_deviation )"
   ]
  },
  {
   "cell_type": "code",
   "execution_count": null,
   "metadata": {},
   "outputs": [],
   "source": []
  }
 ],
 "metadata": {
  "kernelspec": {
   "display_name": "Python 3",
   "language": "python",
   "name": "python3"
  },
  "language_info": {
   "codemirror_mode": {
    "name": "ipython",
    "version": 3
   },
   "file_extension": ".py",
   "mimetype": "text/x-python",
   "name": "python",
   "nbconvert_exporter": "python",
   "pygments_lexer": "ipython3",
   "version": "3.6.4"
  }
 },
 "nbformat": 4,
 "nbformat_minor": 2
}
