{
 "cells": [
  {
   "cell_type": "markdown",
   "metadata": {},
   "source": [
    "Problem Statement 1:\n",
    "In a class on 100 students, 80 students passed in all subjects, 10 failed in one subject, 7\n",
    "failed in two subjects and 3 failed in three subjects. Find the probability distribution of\n",
    "the variable for number of subjects a student from the given class has failed in."
   ]
  },
  {
   "cell_type": "code",
   "execution_count": 3,
   "metadata": {},
   "outputs": [
    {
     "name": "stdout",
     "output_type": "stream",
     "text": [
      "probability of students passed in all subjects i.e P(0):  0.8\n",
      "probability of students failed in one subjects i.e P(1):  0.1\n",
      "probability of students failed in two subjects i.e P(2):  0.07\n",
      "probability of students failed in three subjects i.e P(3):  0.03\n"
     ]
    }
   ],
   "source": [
    "total_students = 100\n",
    "pass_all = 80\n",
    "failed_one = 10\n",
    "failed_two = 7\n",
    "failed_three = 3\n",
    "print(\"probability of students passed in all subjects i.e P(0): \", pass_all / total_students)\n",
    "print(\"probability of students failed in one subjects i.e P(1): \",failed_one / total_students)\n",
    "print(\"probability of students failed in two subjects i.e P(2): \",failed_two /total_students)\n",
    "print(\"probability of students failed in three subjects i.e P(3): \", failed_three / total_students)\n"
   ]
  },
  {
   "cell_type": "code",
   "execution_count": null,
   "metadata": {},
   "outputs": [],
   "source": []
  }
 ],
 "metadata": {
  "kernelspec": {
   "display_name": "Python 3",
   "language": "python",
   "name": "python3"
  },
  "language_info": {
   "codemirror_mode": {
    "name": "ipython",
    "version": 3
   },
   "file_extension": ".py",
   "mimetype": "text/x-python",
   "name": "python",
   "nbconvert_exporter": "python",
   "pygments_lexer": "ipython3",
   "version": "3.6.4"
  }
 },
 "nbformat": 4,
 "nbformat_minor": 2
}
