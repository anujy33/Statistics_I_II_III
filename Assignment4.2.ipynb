{
 "cells": [
  {
   "cell_type": "markdown",
   "metadata": {},
   "source": [
    "Problem Statement 1:\n",
    "Find the variance for the following set of data representing trees in California (heights in\n",
    "feet):\n",
    "3, 21, 98, 203, 17, 9"
   ]
  },
  {
   "cell_type": "code",
   "execution_count": 12,
   "metadata": {},
   "outputs": [
    {
     "name": "stdout",
     "output_type": "stream",
     "text": [
      "Variance using standard formula: 5183.25\n",
      "Variance using numpy is : 5183.25\n"
     ]
    }
   ],
   "source": [
    "import numpy as np\n",
    "heights_in_feet = [3,21,98,203,17,9]\n",
    "variance_sum = 0\n",
    "for i in range(len(heights_in_feet)):\n",
    "    mean = sum(heights_in_feet)*1/len(heights_in_feet)\n",
    "    variance_sum += ((heights_in_feet[i]- mean)**2)\n",
    "variance = variance_sum / len(heights_in_feet)\n",
    "print(\"Variance using standard formula:\", variance)\n",
    "\n",
    "#using numpy\n",
    "var = np.var(heights_in_feet)\n",
    "print(\"Variance using numpy is :\", var)"
   ]
  },
  {
   "cell_type": "code",
   "execution_count": null,
   "metadata": {},
   "outputs": [],
   "source": []
  }
 ],
 "metadata": {
  "kernelspec": {
   "display_name": "Python 3",
   "language": "python",
   "name": "python3"
  },
  "language_info": {
   "codemirror_mode": {
    "name": "ipython",
    "version": 3
   },
   "file_extension": ".py",
   "mimetype": "text/x-python",
   "name": "python",
   "nbconvert_exporter": "python",
   "pygments_lexer": "ipython3",
   "version": "3.6.4"
  }
 },
 "nbformat": 4,
 "nbformat_minor": 2
}
